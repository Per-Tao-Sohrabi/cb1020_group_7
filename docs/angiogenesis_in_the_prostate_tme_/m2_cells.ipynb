{
 "cells": [
  {
   "cell_type": "markdown",
   "metadata": {},
   "source": [
    "# M2"
   ]
  },
  {
   "cell_type": "markdown",
   "metadata": {},
   "source": [
    "#### Import Neccessary Packages\n",
    "The following packages included in cb1020.yml are necessary for the model to run. \n",
    "These include classes of the mesa package, as well as the agent classes improted from the various agent class files."
   ]
  },
  {
   "cell_type": "code",
   "execution_count": null,
   "metadata": {},
   "outputs": [],
   "source": [
    "from mesa import Agent, Model\n",
    "from mesa.time import RandomActivation\n",
    "from mesa.space import MultiGrid\n",
    "from mesa.visualization.modules import CanvasGrid\n",
    "from mesa.visualization.ModularVisualization import ModularServer\n",
    "from Tumor_cells import Tumor_cells\n",
    "import random"
   ]
  },
  {
   "cell_type": "markdown",
   "metadata": {},
   "source": [
    "## Overview\n",
    "Below is the implementation of the M2 agent. The agent is defined through its instance methods of def step, def migrate and def support_tumor_cells\n",
    "\n",
    "\n",
    "### Key Attributes of the def __init__ instance:\n",
    "- **Migration Probability (`prob_migrate`)**: Likelihood of moving to a new grid position during a step.\n",
    "- **Death Probability (`prob_death`)**: Probability of dying during a step.\n",
    "- **Support Growth Probability (`prob_support_growth`)**: Likelihood of supporting tumor cell growth.\n",
    "\n",
    "### Key Attributes of the def __step__ instance: \n",
    "- **\n",
    "\n",
    "\n"
   ]
  },
  {
   "cell_type": "code",
   "execution_count": null,
   "metadata": {},
   "outputs": [],
   "source": [
    "\n",
    "class M2(Agent):\n",
    "    \n",
    "    \"\"\"\n",
    "        Initializes an M2 macrophage agent.\n",
    "\n",
    "        Args:\n",
    "            unique_id (int): Unique identifier for the agent.\n",
    "            model (Model): The model the agent belongs to.\n",
    "            params (dict): Dictionary of model parameters.\n",
    "    \"\"\"\n",
    "    def __init__(self, unique_id, position, model):\n",
    "        super().__init__(unique_id, model)\n",
    "        self.position = position\n",
    "        self.prob_migrate = 0.4\n",
    "        self.prob_death = 0.005\n",
    "        self.prob_support_growth = 0.05\n",
    "        self.alive = True\n",
    "    \n",
    "    def eat(self, val):\n",
    "        self.model.eat_nutrition(val)\n",
    "    \"\"\"\n",
    "        Executes one step of the macrophage's behavior:\n",
    "        - Checks if the macrophage dies.\n",
    "        - Attempts to migrate to a neighboring cell.\n",
    "        - Supports the growth of nearby tumor cells with a given probability.\n",
    "    \"\"\"\n",
    "    def step(self):\n",
    "        # Check if macrophage should die\n",
    "        if not self.alive:\n",
    "            return\n",
    "        self.eat(5)\n",
    "        if self.random.random() < self.prob_death:\n",
    "            self.alive = False\n",
    "            self.model.grid.remove_agent(self)\n",
    "            self.model.schedule.remove(self)\n",
    "            return\n",
    "        if self.random.random() < self.prob_migrate:\n",
    "            self.migrate()\n",
    "        if self.random.random() < self.prob_support_growth:\n",
    "            self.support_tumor_cells()\n",
    "\n",
    "        # Attempt to migrate\n",
    "    def migrate(self):\n",
    "        possible_steps = self.model.grid.get_neighborhood(self.pos, moore=True, include_center=False)\n",
    "        \n",
    "        # Filter only empty positions\n",
    "        empty_positions = [pos for pos in possible_steps if self.model.grid.is_cell_empty(pos)]\n",
    "\n",
    "        #Pick an empty position if there are any\n",
    "        if len(empty_positions) > 0:\n",
    "            new_position = self.random.choice(empty_positions)\n",
    "            self.model.grid.move_agent(self, new_position)\n",
    "\n",
    "        \n",
    "# Check neighbors for tumor cells\n",
    "    def support_tumor_cells(self):\n",
    "        neighbors = self.model.grid.get_neighbors(self.position, moore=True, include_center=False)\n",
    "        for neighbor in neighbors:\n",
    "            if isinstance(neighbor, Tumor_cells):\n",
    "            # Support tumor growth with probability\n",
    "                if self.random.random() < self.prob_support_growth:\n",
    "                # Create a new tumor cell in a random neighboring position\n",
    "                    neighbors = self.model.grid.get_neighborhood(neighbor.position, moore=True, include_center=False)\n",
    "                    tumor_cells = [cell for cell in neighbors if isinstance(cell, Tumor_cells)]\n",
    "                    if tumor_cells:\n",
    "                        tumor_cell = self.random.choice(tumor_cells) \n",
    "                        tumor_cell.set_proliferation_prob(2, \"proportion\")\n",
    "                        tumor_cell.set_death_prob(0,\"value\")\n",
    "                    \n",
    "                    for agent in tumor_cells:\n",
    "                        agent.set_angiogenesis_intensity(1)\n",
    "                        #print(\"M2 Supperoted TUMOR PROLIFERATIOn\")\n",
    "    \n",
    "    \"\"\"\n",
    "        Moves the macrophage to a random neighboring position.\n",
    "    \"\"\"\n",
    "    def random_move(self):\n",
    "        possible_steps = self.model.grid.get_neighborhood(self.position, moore=True, include_center=False)\n",
    "        new_position = self.random.choice(possible_steps)\n",
    "        self.model.grid.move_agent(self, new_position)"
   ]
  },
  {
   "cell_type": "code",
   "execution_count": null,
   "metadata": {},
   "outputs": [],
   "source": []
  }
 ],
 "metadata": {
  "kernelspec": {
   "display_name": "Python 3 (ipykernel)",
   "language": "python",
   "name": "python3"
  },
  "language_info": {
   "codemirror_mode": {
    "name": "ipython",
    "version": 3
   },
   "file_extension": ".py",
   "mimetype": "text/x-python",
   "name": "python",
   "nbconvert_exporter": "python",
   "pygments_lexer": "ipython3",
   "version": "3.12.5"
  }
 },
 "nbformat": 4,
 "nbformat_minor": 4
}
