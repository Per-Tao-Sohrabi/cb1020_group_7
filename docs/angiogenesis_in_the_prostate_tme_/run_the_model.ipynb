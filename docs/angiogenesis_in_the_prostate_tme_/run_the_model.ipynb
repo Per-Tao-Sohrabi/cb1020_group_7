{
 "cells": [
  {
   "cell_type": "markdown",
   "metadata": {},
   "source": [
    "# RUN THE MODEL\n",
    "Use the following blocks to initate and run the simulation."
   ]
  },
  {
   "cell_type": "markdown",
   "metadata": {},
   "source": [
    "### 1. Set the class path\n",
    "First you must set the class path to the directory containing your .py files for the agent classes as well as the model class. Then import the MainModel.MainModel class from MainModel.py"
   ]
  },
  {
   "cell_type": "code",
   "execution_count": 2,
   "metadata": {},
   "outputs": [],
   "source": [
    "import sys\n",
    "sys.path.append('../../src')  # Add the scripts directory to the Python path\n",
    "\n",
    "from MainModel import MainModel"
   ]
  },
  {
   "cell_type": "markdown",
   "metadata": {},
   "source": [
    "### 2. Initiate the model\n",
    "Initate an instance of MainModel and "
   ]
  },
  {
   "cell_type": "code",
   "execution_count": 5,
   "metadata": {},
   "outputs": [],
   "source": [
    "steps = None#insert integer or None. \n",
    "\n",
    "model = MainModel(num_steps=steps)"
   ]
  },
  {
   "cell_type": "markdown",
   "metadata": {},
   "source": [
    "### 3. Run the Model!\n",
    "\n",
    "Choose between visual and non-visual model simulation. \n",
    "\n",
    "#### For non-visual simulation\n",
    "Make a for loop that called the model's .step() function. Specify a number of itterations smaller or equal to than the num_step parameter declared in the code block above. Any higher numbers will not result in more steps taken. This is however not the case if the model was instanciated without a specified num_steps variable. "
   ]
  },
  {
   "cell_type": "code",
   "execution_count": 7,
   "metadata": {},
   "outputs": [],
   "source": [
    "for i in range(30): #SPECIFY NUMBER OF STEPS IN range()\n",
    "    model.step()\n",
    "\n",
    "#COLLECTING STORED DATA\n",
    "model_df = model.datacollector.get_model_vars_dataframe()\n",
    "agent_df = model.datacollector.get_agent_vars_dataframe()\n",
    "\n",
    "#model_df.head(5)\n",
    "\n",
    "#agent_df\n",
    "\n",
    "#DOWNLOAD DATA FILES\n",
    "model_df.to_excel(\"model_data.xlsx\", index=False)\n",
    "agent_df.to_excel(\"agent_data.xlsx\", index=False)\n",
    "\n",
    "\n",
    "#PLOT DATA\n",
    "model_df.plot( lw=3, figsize=(10, 6))\n",
    "\n",
    "plt.ylabel(\"\")\n",
    "plt.xlabel(\"Time step\")\n",
    "plt.grid(\"on\")\n",
    "#plt.setp(plt.gca(), xlim=(-1, 1000), ylim=(0, 1))\n",
    "\n",
    "plt.show()\n",
    "\n",
    "model.plot_data_overlap()"
   ]
  },
  {
   "cell_type": "markdown",
   "metadata": {},
   "source": [
    "#### For visual simulation\n",
    "The following code creates an https server that visually simulates the model. If the aim is to run a limitied number of steps throughout a simulation specify num_steps in the arguments that initate a server object. \n",
    "\n",
    "Note: this method instanciates a server using the MainModel class as input. It does not use an instance of MainModel which is why num_steps has to be specified under *\"model_params\"* rather in the MainModel call directly."
   ]
  },
  {
   "cell_type": "code",
   "execution_count": 9,
   "metadata": {},
   "outputs": [
    {
     "name": "stdout",
     "output_type": "stream",
     "text": [
      "Interface starting at http://127.0.0.1:8521\n"
     ]
    },
    {
     "ename": "RuntimeError",
     "evalue": "This event loop is already running",
     "output_type": "error",
     "traceback": [
      "\u001b[0;31m---------------------------------------------------------------------------\u001b[0m",
      "\u001b[0;31mRuntimeError\u001b[0m                              Traceback (most recent call last)",
      "Cell \u001b[0;32mIn[9], line 78\u001b[0m\n\u001b[1;32m     76\u001b[0m server\u001b[38;5;241m.\u001b[39mport \u001b[38;5;241m=\u001b[39m \u001b[38;5;241m8521\u001b[39m  \u001b[38;5;66;03m# You can set a custom port\u001b[39;00m\n\u001b[1;32m     77\u001b[0m \u001b[38;5;66;03m# Run the visualization server\u001b[39;00m\n\u001b[0;32m---> 78\u001b[0m \u001b[43mserver\u001b[49m\u001b[38;5;241;43m.\u001b[39;49m\u001b[43mlaunch\u001b[49m\u001b[43m(\u001b[49m\u001b[43m)\u001b[49m\n",
      "File \u001b[0;32m/opt/anaconda3/envs/cb1020/lib/python3.12/site-packages/mesa_viz_tornado/ModularVisualization.py:407\u001b[0m, in \u001b[0;36mModularServer.launch\u001b[0;34m(self, port, open_browser)\u001b[0m\n\u001b[1;32m    405\u001b[0m tornado\u001b[38;5;241m.\u001b[39mautoreload\u001b[38;5;241m.\u001b[39mstart()\n\u001b[1;32m    406\u001b[0m \u001b[38;5;28;01mtry\u001b[39;00m:\n\u001b[0;32m--> 407\u001b[0m     \u001b[43mtornado\u001b[49m\u001b[38;5;241;43m.\u001b[39;49m\u001b[43mioloop\u001b[49m\u001b[38;5;241;43m.\u001b[39;49m\u001b[43mIOLoop\u001b[49m\u001b[38;5;241;43m.\u001b[39;49m\u001b[43mcurrent\u001b[49m\u001b[43m(\u001b[49m\u001b[43m)\u001b[49m\u001b[38;5;241;43m.\u001b[39;49m\u001b[43mstart\u001b[49m\u001b[43m(\u001b[49m\u001b[43m)\u001b[49m\n\u001b[1;32m    408\u001b[0m \u001b[38;5;28;01mexcept\u001b[39;00m \u001b[38;5;167;01mKeyboardInterrupt\u001b[39;00m:\n\u001b[1;32m    409\u001b[0m     tornado\u001b[38;5;241m.\u001b[39mioloop\u001b[38;5;241m.\u001b[39mIOLoop\u001b[38;5;241m.\u001b[39mcurrent()\u001b[38;5;241m.\u001b[39mstop()\n",
      "File \u001b[0;32m/opt/anaconda3/envs/cb1020/lib/python3.12/site-packages/tornado/platform/asyncio.py:205\u001b[0m, in \u001b[0;36mBaseAsyncIOLoop.start\u001b[0;34m(self)\u001b[0m\n\u001b[1;32m    204\u001b[0m \u001b[38;5;28;01mdef\u001b[39;00m \u001b[38;5;21mstart\u001b[39m(\u001b[38;5;28mself\u001b[39m) \u001b[38;5;241m-\u001b[39m\u001b[38;5;241m>\u001b[39m \u001b[38;5;28;01mNone\u001b[39;00m:\n\u001b[0;32m--> 205\u001b[0m     \u001b[38;5;28;43mself\u001b[39;49m\u001b[38;5;241;43m.\u001b[39;49m\u001b[43masyncio_loop\u001b[49m\u001b[38;5;241;43m.\u001b[39;49m\u001b[43mrun_forever\u001b[49m\u001b[43m(\u001b[49m\u001b[43m)\u001b[49m\n",
      "File \u001b[0;32m/opt/anaconda3/envs/cb1020/lib/python3.12/asyncio/base_events.py:630\u001b[0m, in \u001b[0;36mBaseEventLoop.run_forever\u001b[0;34m(self)\u001b[0m\n\u001b[1;32m    628\u001b[0m \u001b[38;5;250m\u001b[39m\u001b[38;5;124;03m\"\"\"Run until stop() is called.\"\"\"\u001b[39;00m\n\u001b[1;32m    629\u001b[0m \u001b[38;5;28mself\u001b[39m\u001b[38;5;241m.\u001b[39m_check_closed()\n\u001b[0;32m--> 630\u001b[0m \u001b[38;5;28;43mself\u001b[39;49m\u001b[38;5;241;43m.\u001b[39;49m\u001b[43m_check_running\u001b[49m\u001b[43m(\u001b[49m\u001b[43m)\u001b[49m\n\u001b[1;32m    631\u001b[0m \u001b[38;5;28mself\u001b[39m\u001b[38;5;241m.\u001b[39m_set_coroutine_origin_tracking(\u001b[38;5;28mself\u001b[39m\u001b[38;5;241m.\u001b[39m_debug)\n\u001b[1;32m    633\u001b[0m old_agen_hooks \u001b[38;5;241m=\u001b[39m sys\u001b[38;5;241m.\u001b[39mget_asyncgen_hooks()\n",
      "File \u001b[0;32m/opt/anaconda3/envs/cb1020/lib/python3.12/asyncio/base_events.py:622\u001b[0m, in \u001b[0;36mBaseEventLoop._check_running\u001b[0;34m(self)\u001b[0m\n\u001b[1;32m    620\u001b[0m \u001b[38;5;28;01mdef\u001b[39;00m \u001b[38;5;21m_check_running\u001b[39m(\u001b[38;5;28mself\u001b[39m):\n\u001b[1;32m    621\u001b[0m     \u001b[38;5;28;01mif\u001b[39;00m \u001b[38;5;28mself\u001b[39m\u001b[38;5;241m.\u001b[39mis_running():\n\u001b[0;32m--> 622\u001b[0m         \u001b[38;5;28;01mraise\u001b[39;00m \u001b[38;5;167;01mRuntimeError\u001b[39;00m(\u001b[38;5;124m'\u001b[39m\u001b[38;5;124mThis event loop is already running\u001b[39m\u001b[38;5;124m'\u001b[39m)\n\u001b[1;32m    623\u001b[0m     \u001b[38;5;28;01mif\u001b[39;00m events\u001b[38;5;241m.\u001b[39m_get_running_loop() \u001b[38;5;129;01mis\u001b[39;00m \u001b[38;5;129;01mnot\u001b[39;00m \u001b[38;5;28;01mNone\u001b[39;00m:\n\u001b[1;32m    624\u001b[0m         \u001b[38;5;28;01mraise\u001b[39;00m \u001b[38;5;167;01mRuntimeError\u001b[39;00m(\n\u001b[1;32m    625\u001b[0m             \u001b[38;5;124m'\u001b[39m\u001b[38;5;124mCannot run the event loop while another loop is running\u001b[39m\u001b[38;5;124m'\u001b[39m)\n",
      "\u001b[0;31mRuntimeError\u001b[0m: This event loop is already running"
     ]
    },
    {
     "name": "stdout",
     "output_type": "stream",
     "text": [
      "Socket opened!\n",
      "{\"type\":\"reset\"}\n",
      "{\"type\":\"get_step\",\"step\":1}\n",
      "{\"type\":\"get_step\",\"step\":2}\n",
      "{\"type\":\"get_step\",\"step\":3}\n",
      "{\"type\":\"get_step\",\"step\":4}\n",
      "{\"type\":\"get_step\",\"step\":5}\n",
      "{\"type\":\"get_step\",\"step\":6}\n",
      "{\"type\":\"get_step\",\"step\":7}\n",
      "{\"type\":\"get_step\",\"step\":8}\n",
      "{\"type\":\"get_step\",\"step\":9}\n",
      "{\"type\":\"get_step\",\"step\":10}\n",
      "{\"type\":\"get_step\",\"step\":11}\n",
      "{\"type\":\"get_step\",\"step\":12}\n",
      "{\"type\":\"get_step\",\"step\":13}\n",
      "{\"type\":\"get_step\",\"step\":14}\n",
      "{\"type\":\"get_step\",\"step\":15}\n",
      "{\"type\":\"get_step\",\"step\":16}\n",
      "{\"type\":\"get_step\",\"step\":17}\n",
      "{\"type\":\"get_step\",\"step\":18}\n",
      "{\"type\":\"get_step\",\"step\":19}\n",
      "{\"type\":\"get_step\",\"step\":20}\n",
      "{\"type\":\"get_step\",\"step\":21}\n",
      "{\"type\":\"get_step\",\"step\":22}\n",
      "{\"type\":\"get_step\",\"step\":23}\n",
      "{\"type\":\"get_step\",\"step\":24}\n",
      "{\"type\":\"get_step\",\"step\":25}\n",
      "{\"type\":\"get_step\",\"step\":26}\n",
      "{\"type\":\"get_step\",\"step\":27}\n",
      "{\"type\":\"get_step\",\"step\":28}\n"
     ]
    }
   ],
   "source": [
    "from MainModel import MainModel\n",
    "\n",
    "from mesa.visualization.modules import CanvasGrid\n",
    "from mesa.visualization.ModularVisualization import ModularServer\n",
    "\n",
    "from Endothelial import Endothelial;\n",
    "from Tumor_cells import Tumor_cells; \n",
    "from M1 import M1;\n",
    "from M2 import M2;\n",
    "from Fibroblast import Fibroblast;\n",
    "\n",
    "def agent_portrayal(agent):\n",
    "    \"\"\"\n",
    "    Define how agents are portrayed in the visualization.\n",
    "\n",
    "    Args:\n",
    "        agent (Agent): The agent to portray.\n",
    "\n",
    "    Returns:\n",
    "        dict: A portrayal dictionary specifying agent appearance.\n",
    "\"\"\"\n",
    "    portrayal = {\n",
    "        \"Filled\": \"true\",   # Ensure the shape is filled\n",
    "    }\n",
    "\n",
    "    if isinstance(agent, Tumor_cells):\n",
    "        portrayal[\"Shape\"] = \"circle\"\n",
    "        portrayal[\"r\"] = 1\n",
    "        portrayal[\"Color\"] = \"blue\"\n",
    "        portrayal[\"Layer\"] = 0\n",
    "\n",
    "        # Add a label if multiple agents are in the same cell for clarity\n",
    "        cell_contents = agent.model.grid.get_cell_list_contents(agent.position)\n",
    "        if len(cell_contents) > 1:\n",
    "            portrayal[\"text\"] = f\"{len(cell_contents)}\"\n",
    "            portrayal[\"text_color\"] = \"white\"\n",
    "\n",
    "    elif isinstance(agent, Endothelial):\n",
    "        portrayal[\"Shape\"] = \"circle\"\n",
    "        portrayal[\"r\"] = 1\n",
    "        portrayal[\"Color\"] = \"red\"\n",
    "        portrayal[\"Layer\"] = 0\n",
    "\n",
    "    elif isinstance(agent, M1):\n",
    "        portrayal[\"Shape\"] = \"circle\"\n",
    "        portrayal[\"r\"] = 1\n",
    "        portrayal[\"Color\"] = \"green\"\n",
    "        portrayal[\"Layer\"] = 0\n",
    "\n",
    "    elif isinstance(agent, M2):\n",
    "        portrayal[\"Shape\"] = \"circle\"\n",
    "        portrayal[\"r\"] = 1\n",
    "        portrayal[\"Color\"] = \"purple\"\n",
    "        portrayal[\"Layer\"] = 0\n",
    "    \n",
    "    elif isinstance(agent, Fibroblast):\n",
    "        portrayal[\"Shape\"] = \"circle\"\n",
    "        portrayal[\"r\"] = 1\n",
    "        portrayal[\"Color\"] = \"orange\"\n",
    "        portrayal[\"Layer\"] = 0\n",
    "\n",
    "\n",
    "    return portrayal\n",
    "\n",
    "# Set up the visualization canvas\n",
    "canvas_element = CanvasGrid(agent_portrayal, 150, 150, 1200, 1200) \n",
    "\n",
    "# Create the ModularServer to run the visualization\n",
    "server = ModularServer(\n",
    "    MainModel, \n",
    "    [canvas_element], \n",
    "    \"Prostate Environment Simulation\",\n",
    "    model_params={\"num_steps\": 100}\n",
    ")\n",
    "\n",
    "server.port = 8521  # You can set a custom port\n",
    "# Run the visualization server\n",
    "server.launch()\n",
    "\n",
    "\n",
    "\n"
   ]
  }
 ],
 "metadata": {
  "kernelspec": {
   "display_name": "Python 3 (ipykernel)",
   "language": "python",
   "name": "python3"
  },
  "language_info": {
   "codemirror_mode": {
    "name": "ipython",
    "version": 3
   },
   "file_extension": ".py",
   "mimetype": "text/x-python",
   "name": "python",
   "nbconvert_exporter": "python",
   "pygments_lexer": "ipython3",
   "version": "3.12.5"
  }
 },
 "nbformat": 4,
 "nbformat_minor": 4
}
