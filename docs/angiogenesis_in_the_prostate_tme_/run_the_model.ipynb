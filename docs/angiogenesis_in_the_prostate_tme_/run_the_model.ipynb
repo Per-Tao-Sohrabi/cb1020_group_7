{
 "cells": [
  {
   "cell_type": "markdown",
   "metadata": {},
   "source": [
    "# RUN THE MODEL\n",
    "Use the following blocks to initate and run the simulation."
   ]
  },
  {
   "cell_type": "markdown",
   "metadata": {},
   "source": [
    "### 1. Set the class path\n",
    "First you must set the class path to the directory containing your .py files for the agent classes as well as the model class. Then import the MainModel.MainModel class from MainModel.py"
   ]
  },
  {
   "cell_type": "code",
   "execution_count": 1,
   "metadata": {},
   "outputs": [],
   "source": [
    "import sys\n",
    "sys.path.append('../../src')  # Add the directory path containing your .py files to the Python path\n",
    "\n",
    "from MainModel import MainModel"
   ]
  },
  {
   "cell_type": "markdown",
   "metadata": {},
   "source": [
    "### 2. Initiate the model\n",
    "Initate an instance of MainModel and "
   ]
  },
  {
   "cell_type": "code",
   "execution_count": 5,
   "metadata": {},
   "outputs": [],
   "source": [
    "steps = None#insert integer or None. \n",
    "\n",
    "model = MainModel(num_steps=steps)"
   ]
  },
  {
   "cell_type": "markdown",
   "metadata": {},
   "source": [
    "### 3. Run the Model!\n",
    "\n",
    "Choose between visual and non-visual model simulation. \n",
    "\n",
    "#### For non-visual simulation\n",
    "Make a for loop that called the model's .step() function. Specify a number of itterations smaller or equal to than the num_step parameter declared in the code block above. Any higher numbers will not result in more steps taken. This is however not the case if the model was instanciated without a specified num_steps variable. "
   ]
  },
  {
   "cell_type": "code",
   "execution_count": null,
   "metadata": {},
   "outputs": [],
   "source": [
    "for i in range(100): #SPECIFY NUMBER OF STEPS IN range()\n",
    "    model.step()\n",
    "\n",
    "#COLLECTING STORED DATA\n",
    "model_df = model.datacollector.get_model_vars_dataframe()\n",
    "agent_df = model.datacollector.get_agent_vars_dataframe()\n",
    "\n",
    "#model_df.head(5)\n",
    "\n",
    "#agent_df\n",
    "\n",
    "#DOWNLOAD DATA FILES\n",
    "model_df.to_excel(\"model_data.xlsx\", index=False)\n",
    "agent_df.to_excel(\"agent_data.xlsx\", index=False)\n",
    "\n",
    "\n",
    "#PLOT DATA\n",
    "model_df.plot( lw=3, figsize=(10, 6))\n",
    "\n",
    "model.plot_data_overlap()"
   ]
  },
  {
   "cell_type": "markdown",
   "metadata": {},
   "source": [
    "#### For visual simulation\n",
    "The following code creates an https server that visually simulates the model. If the aim is to run a limitied number of steps throughout a simulation specify num_steps in the arguments that initate a server object. \n",
    "\n",
    "Note: this method instanciates a server using the MainModel class as input. It does not use an instance of MainModel which is why num_steps has to be specified under *\"model_params\"* rather in the MainModel call directly."
   ]
  },
  {
   "cell_type": "code",
   "execution_count": null,
   "metadata": {},
   "outputs": [],
   "source": [
    "from MainModel import MainModel\n",
    "\n",
    "from mesa.visualization.modules import CanvasGrid\n",
    "from mesa.visualization.ModularVisualization import ModularServer\n",
    "\n",
    "from Endothelial import Endothelial;\n",
    "from Tumor_cells import Tumor_cells; \n",
    "from M1 import M1;\n",
    "from M2 import M2;\n",
    "from Fibroblast import Fibroblast;\n",
    "\n",
    "def agent_portrayal(agent):\n",
    "    \"\"\"\n",
    "    Define how agents are portrayed in the visualization.\n",
    "\n",
    "    Args:\n",
    "        agent (Agent): The agent to portray.\n",
    "\n",
    "    Returns:\n",
    "        dict: A portrayal dictionary specifying agent appearance.\n",
    "\"\"\"\n",
    "    portrayal = {\n",
    "        \"Filled\": \"true\",   # Ensure the shape is filled\n",
    "    }\n",
    "\n",
    "    if isinstance(agent, Tumor_cells):\n",
    "        portrayal[\"Shape\"] = \"circle\"\n",
    "        portrayal[\"r\"] = 1\n",
    "        portrayal[\"Color\"] = \"blue\"\n",
    "        portrayal[\"Layer\"] = 0\n",
    "\n",
    "        # Add a label if multiple agents are in the same cell for clarity\n",
    "        cell_contents = agent.model.grid.get_cell_list_contents(agent.position)\n",
    "        if len(cell_contents) > 1:\n",
    "            portrayal[\"text\"] = f\"{len(cell_contents)}\"\n",
    "            portrayal[\"text_color\"] = \"white\"\n",
    "\n",
    "    elif isinstance(agent, Endothelial):\n",
    "        portrayal[\"Shape\"] = \"circle\"\n",
    "        portrayal[\"r\"] = 1\n",
    "        portrayal[\"Color\"] = \"red\"\n",
    "        portrayal[\"Layer\"] = 0\n",
    "\n",
    "    elif isinstance(agent, M1):\n",
    "        portrayal[\"Shape\"] = \"circle\"\n",
    "        portrayal[\"r\"] = 1\n",
    "        portrayal[\"Color\"] = \"green\"\n",
    "        portrayal[\"Layer\"] = 0\n",
    "\n",
    "    elif isinstance(agent, M2):\n",
    "        portrayal[\"Shape\"] = \"circle\"\n",
    "        portrayal[\"r\"] = 1\n",
    "        portrayal[\"Color\"] = \"purple\"\n",
    "        portrayal[\"Layer\"] = 0\n",
    "    \n",
    "    elif isinstance(agent, Fibroblast):\n",
    "        portrayal[\"Shape\"] = \"circle\"\n",
    "        portrayal[\"r\"] = 1\n",
    "        portrayal[\"Color\"] = \"orange\"\n",
    "        portrayal[\"Layer\"] = 0\n",
    "\n",
    "\n",
    "    return portrayal\n",
    "\n",
    "# Set up the visualization canvas\n",
    "canvas_element = CanvasGrid(agent_portrayal, 150, 150, 1200, 1200) \n",
    "\n",
    "# Create the ModularServer to run the visualization\n",
    "server = ModularServer(\n",
    "    MainModel, \n",
    "    [canvas_element], \n",
    "    \"Prostate Environment Simulation\",\n",
    "    model_params={\"num_steps\": 100}\n",
    ")\n",
    "\n",
    "server.port = 8521  # You can set a custom port\n",
    "# Run the visualization server\n",
    "server.launch()\n",
    "\n",
    "\n",
    "\n"
   ]
  }
 ],
 "metadata": {
  "kernelspec": {
   "display_name": "Python 3 (ipykernel)",
   "language": "python",
   "name": "python3"
  },
  "language_info": {
   "codemirror_mode": {
    "name": "ipython",
    "version": 3
   },
   "file_extension": ".py",
   "mimetype": "text/x-python",
   "name": "python",
   "nbconvert_exporter": "python",
   "pygments_lexer": "ipython3",
   "version": "3.12.5"
  }
 },
 "nbformat": 4,
 "nbformat_minor": 4
}
