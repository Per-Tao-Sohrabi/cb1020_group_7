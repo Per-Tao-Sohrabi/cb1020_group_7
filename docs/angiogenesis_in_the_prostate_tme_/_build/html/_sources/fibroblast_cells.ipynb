{
 "cells": [
  {
   "cell_type": "markdown",
   "metadata": {},
   "source": [
    "# FIBROBLAST"
   ]
  },
  {
   "cell_type": "markdown",
   "metadata": {},
   "source": [
    "This chapter describes the implementation of the Fibroblast agent"
   ]
  },
  {
   "cell_type": "markdown",
   "metadata": {},
   "source": [
    "#### Import Neccessary Packages\n",
    "The following packages included in cb1020.yml are necessary for the model to run. \n",
    "These include classes of the mesa package, as well as the agent classes improted from the various agent class files."
   ]
  },
  {
   "cell_type": "code",
   "execution_count": null,
   "metadata": {
    "vscode": {
     "languageId": "plaintext"
    }
   },
   "outputs": [],
   "source": [
    "from mesa import Agent, Model\n",
    "from mesa.time import RandomActivation\n",
    "from mesa.space import MultiGrid\n",
    "from Tumor_cells import Tumor_cells\n",
    "# from mesa.visualization.modules import CanvasGrid\n",
    "# from mesa.visualization.ModularVisualization import ModularServer"
   ]
  },
  {
   "cell_type": "markdown",
   "metadata": {
    "vscode": {
     "languageId": "plaintext"
    }
   },
   "source": [
    "**Fibroblast** is a type of cell that contributes to the formation of connective tissue. In a tumor microenvironment, it will inadvertantly become cancer assosciated fibroblasts and support tumor growth. Below is the implementation of the Fibroblast agent. The agent is defined through its instance methods of def step, def migrate, def support_tumor_cells\n",
    "\n",
    "## Key Features\n",
    "- **Migration (`prob_migrate`)**: Fibroblasts move across the grid to provide structural support or influence tumor cells.   \n",
    "- **Support Tumor Cells (`support_tumor_cells`)**: Fibroblasts can aid tumor cell proliferation under certain conditions."
   ]
  },
  {
   "cell_type": "code",
   "execution_count": null,
   "metadata": {
    "vscode": {
     "languageId": "plaintext"
    }
   },
   "outputs": [],
   "source": [
    "\n",
    "# Fibroblast Agent\n",
    "\"\"\"\n",
    "    Represents a fibroblast agent in the model.\n",
    "\n",
    "    Attributes:\n",
    "        position (tuple): The (x, y) position of the agent in the grid.\n",
    "        alive (bool): Indicates whether the agent is alive.\n",
    "        proliferation_capacity (int): The remaining capacity for the agent to proliferate.\n",
    "\"\"\"\n",
    "\n",
    "# Define parameters for the Fibroblast agent\n",
    "params = {\n",
    "    \"Fpdeath\": 0.0018*10,  # Probability of death \n",
    "    \"Fpmig\": 1.4,          # Probability of migration\n",
    "    \"Fpprol\": 0.0838/4,    # Probability of proliferation\n",
    "    \"Fpmax\": 4             # Initial proliferation capacity\n",
    "}\n",
    "\n",
    "class Fibroblast(Agent):\n",
    "    \"\"\"\n",
    "        Initializes a Fibroblast agent.\n",
    "\n",
    "        Args:\n",
    "            unique_id (int): Unique identifier for the agent.\n",
    "            position (tuple): Initial position of the agent in the grid (x, y).\n",
    "            model (Model): The model the agent belongs to.\n",
    "    \"\"\"\n",
    "    def __init__(self, unique_id, position, model):\n",
    "        super().__init__(unique_id, model)\n",
    "        self.position = position\n",
    "        self.alive = True\n",
    "        self.proliferation_capacity = params[\"Fpmax\"]\n",
    "        self.prob_support_growth = 0.05\n",
    "    \n",
    "    def eat(self, val):\n",
    "        self.model.eat_nutrition(val)\n",
    "    \n",
    "    \"\"\"\n",
    "        Executes one step for the fibroblast agent, including:\n",
    "            - Death: Agent may die based on the `Fpdeath` probability.\n",
    "            - Migration: Agent may move to a neighboring cell based on the `Fpmig` probability.\n",
    "            - Proliferation: Agent may create a new fibroblast in an adjacent cell if it has \n",
    "              proliferation capacity and the `Fpprol` probability is met.\n",
    "    \"\"\"\n",
    "    def step(self):\n",
    "        self.eat(3)\n",
    "        # Migration\n",
    "        if self.random.random() < params[\"Fpmig\"]:\n",
    "            self.migrate()\n",
    "\n",
    "        # Support tumor growth\n",
    "        if self.random.random() < self.prob_support_growth:\n",
    "            self.support_tumor_cells()\n",
    "\n",
    "        #Proliferation\n",
    "        #Elif self.proliferation_capacity > 0 and self.random.random() < params[\"Fpprol\"]:\n",
    "        #self.proliferate()\n",
    "\n",
    "        # Death\n",
    "        if self.random.random() < params[\"Fpdeath\"]:\n",
    "            self.alive = False\n",
    "            self.model.grid.remove_agent(self)\n",
    "            self.model.schedule.remove(self)\n",
    "            return\n",
    "\n",
    "\n",
    "    \"\"\"\n",
    "        Moves the agent to a random neighboring cell if possible.\n",
    "    \"\"\"\n",
    "    def migrate(self):\n",
    "        possible_steps = self.model.grid.get_neighborhood(self.position, moore=True, include_center=False)\n",
    "        \n",
    "        # Filter only empty positions\n",
    "        empty_positions = [pos for pos in possible_steps if self.model.grid.is_cell_empty(pos)]\n",
    "\n",
    "        # Pick an empty position if there are any\n",
    "        if len(empty_positions) > 0:\n",
    "            new_position = self.random.choice(empty_positions)\n",
    "            if new_position != None:\n",
    "                self.model.grid.move_agent(self, new_position)\n",
    "\n",
    "    \"\"\"\n",
    "        Creates a new fibroblast agent in an empty neighboring cell if one exists.\n",
    "        Reduces the proliferation capacity of the current agent by 1.\n",
    "    \"\"\"\n",
    "    def proliferate(self):\n",
    "        self.model.generate_agents(Fibroblast, \"proliferate\", 1, self.position)\n",
    "        empty_cells = [cell for cell in self.model.grid.get_neighborhood(self.position, moore=True, include_center=False)\n",
    "                       if self.model.grid.is_cell_empty(cell)]\n",
    "        #If empty_cells:\n",
    "            #new_position = self.random.choice(empty_cells)\n",
    "            #new_agent = Fibroblast(self.model.next_id(), new_position, self.model)\n",
    "            #self.model.grid.place_agent(new_agent, new_position)\n",
    "            #self.model.schedule.add(new_agent)\n",
    "            #self.proliferation_capacity -= 1\n",
    "    \n",
    "    def support_tumor_cells(self):\n",
    "        neighbors = self.model.grid.get_neighbors(self.position, moore=True, include_center=False)\n",
    "        for neighbor in neighbors:\n",
    "            if isinstance(neighbor, Tumor_cells):\n",
    "            \n",
    "            # Support tumor growth with probability\n",
    "                if self.random.random() < self.prob_support_growth:\n",
    "            \n",
    "                # Create a new tumor cell in a random neighboring position\n",
    "                    neighbors = self.model.grid.get_neighborhood(neighbor.position, moore=True, include_center=False)\n",
    "                    tumor_cells = [cell for cell in neighbors if isinstance(cell, Tumor_cells)]\n",
    "            \n",
    "                    if tumor_cells:\n",
    "                        tumor_cell = self.random.choice(tumor_cells)\n",
    "                        if tumor_cell.nearest_dist > tumor_cell.hypoxia_thresholds[1]:\n",
    "                            tumor_cell.prolif_inhib_intensity = 0.3\n",
    "                            tumor_cell.death_intensity = 0.5\n",
    "                            print(\"Fibroblast Supperoted TUMOR PROLIFERATION\")"
   ]
  }
 ],
 "metadata": {
  "kernelspec": {
   "display_name": "Python 3 (ipykernel)",
   "language": "python",
   "name": "python3"
  },
  "language_info": {
   "codemirror_mode": {
    "name": "ipython",
    "version": 3
   },
   "file_extension": ".py",
   "mimetype": "text/x-python",
   "name": "python",
   "nbconvert_exporter": "python",
   "pygments_lexer": "ipython3",
   "version": "3.12.5"
  }
 },
 "nbformat": 4,
 "nbformat_minor": 4
}
