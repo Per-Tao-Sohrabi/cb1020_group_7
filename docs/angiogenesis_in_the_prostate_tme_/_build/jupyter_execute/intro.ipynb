{
 "cells": [
  {
   "cell_type": "markdown",
   "metadata": {},
   "source": [
    "# INTRODUCTION  \n",
    "Computational modelling is widely applied across biotechnology, such as in simulating disease control, drug side effects, and cancer cell interactions in tissue (NIBIB, 2009; Nicolò Cogno, et al., 2024). Mathematical modelling reduces costs and labour by predicting outcomes like cancer cell interactions. Additionally, in silico experiments enable rapid hypothesis testing through parallel simulations (Puniya et al., 2024). Agent-based modeling (ABM) is a computational model which imitates the interactions between individual agents through observing the behaviour in between the autonomous agents, as well as their interactions with their surrounding environment, ultimately allowing for an observations of the macroscopic phenomena. It considers the temporal and spatial structures, the heterogeneity and the ability to adapt, which is beneficial to the complexities of the tumour cells (Hammond, 2015). In this project, agent-based modelling (ABM) is used to visualise tumour cell interactions within a controlled environment where agents follow predefined rules (‘Agent-Based Modeling — Project in Mathematical Modeling,’ 2024). \n",
    "\n",
    "Prostate cancer results in approximately 300 000 deaths annually and more than 1.4 million new cases amongst men, making it the second most common cancer for men worldwide. Thus, it is highly relevant to examine and try to understand its mechanisms (Cancer Research UK, 2017). Prostate cancer is often treated with local interventions such as surgery or radiation. However, survival rates drop significantly once the cancer metastasizes, i.e. spreads to secondary sites in the body (Zhou et al., 2015). \n",
    "\n",
    "## Purpose and Research Questions\n",
    "ABM is used for studying prostate cancer development in relation to different objects in its TME related to nutrient acquisition. This project was inspired by the works William G. Kaelin Jr, Sir Peter J. Ratcliffe, and Gregg L. Semenza who in 2019 won the Nobel Prize in Medicine “for their discoveries of how cells sense and adapt to oxygen availability”, as well as Van Genderen et al. 2024 that made a similar model simulating cancer development in relationship to immunological mechanisms in the TME. In our case, we aim to examine how cancer cells promote proliferation through nutrient acquisition strategies such as induction of angiogenesis, for increasing nutrient and oxygen supply in the TME, as well as how the presence of immunological components in the TME\n",
    "\n",
    "## Prerequesites \n",
    "**Environment**\n",
    "Before importing necessary pacakges in the next cell, ensure that your cb1020 environment is activated. \n",
    "It can be downloaded through the following link: https://canvas.kth.se/courses/49002/files/8235393/download?download_frd=1\n",
    "\n",
    "**Agent class files**\n",
    "The agent class files used throughout the simulation needs be placed in the same directory as MainModel.py.\n",
    "The project file exist publicly in the /src folder on the following git hub repository: https://github.com/Per-Tao-Sohrabi/cb1020_group_7.git.\n",
    "\n"
   ]
  }
 ],
 "metadata": {
  "kernelspec": {
   "display_name": "Python 3 (ipykernel)",
   "language": "python",
   "name": "python3"
  },
  "language_info": {
   "codemirror_mode": {
    "name": "ipython",
    "version": 3
   },
   "file_extension": ".py",
   "mimetype": "text/x-python",
   "name": "python",
   "nbconvert_exporter": "python",
   "pygments_lexer": "ipython3",
   "version": "3.12.5"
  }
 },
 "nbformat": 4,
 "nbformat_minor": 4
}