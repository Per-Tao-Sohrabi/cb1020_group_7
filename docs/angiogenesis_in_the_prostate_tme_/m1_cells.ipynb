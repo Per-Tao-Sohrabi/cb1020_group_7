{
 "cells": [
  {
   "cell_type": "markdown",
   "metadata": {},
   "source": [
    "# M1"
   ]
  },
  {
   "cell_type": "code",
   "execution_count": null,
   "metadata": {},
   "outputs": [],
   "source": [
    "from mesa import Agent, Model\n",
    "from mesa.time import RandomActivation\n",
    "from mesa.space import MultiGrid\n",
    "from mesa.visualization.modules import CanvasGrid\n",
    "from Tumor_cells import Tumor_cells\n",
    "from mesa.visualization.ModularVisualization import ModularServer"
   ]
  },
  {
   "cell_type": "code",
   "execution_count": null,
   "metadata": {},
   "outputs": [],
   "source": [
    "\"\"\"\n",
    "    Represents an M1 macrophage agent in the model.\n",
    "\n",
    "    Attributes:\n",
    "        position (tuple): The (x, y) position of the agent in the grid.\n",
    "        killing_capacity (int): The number of tumor cells the agent can kill.\n",
    "        prob_kill (float): Probability of killing a tumor cell in a step.\n",
    "        prob_migrate (float): Probability of moving to a new position in a step.\n",
    "        prob_death (float): Probability of dying in a step.\n",
    "        alive (bool): Indicates whether the agent is alive.\n",
    "\"\"\"\n",
    "class M1(Agent):\n",
    "    \n",
    "    \"\"\"\n",
    "        Initializes an M1 macrophage agent.\n",
    "\n",
    "        Args:\n",
    "            agent_id (int): Unique identifier for the agent.\n",
    "            position (tuple): Initial position of the agent in the grid.\n",
    "            model (Model): The model the agent belongs to.\n",
    "    \"\"\"\n"
   ]
  },
  {
   "cell_type": "markdown",
   "metadata": {},
   "source": [
    "## Initialization\n",
    "Initializes an M1 macrophage agent.\n",
    "Sets up the M1 macrophage with its unique ID, position, and initial attributes such as killing capacity, probabilities of actions, and alive status.\n",
    "Initialization ensures each M1 macrophage starts with consistent properties and is ready to perform its role in the simulation.\n"
   ]
  },
  {
   "cell_type": "code",
   "execution_count": null,
   "metadata": {},
   "outputs": [],
   "source": [
    "\n",
    "    def __init__(self, agent_id, position, model):\n",
    "        super().__init__(agent_id, model)\n",
    "        self.position = position\n",
    "        self.killing_capacity = 11       # Killing capacity \n",
    "        self.prob_kill = 0.0306          # Probability of killing\n",
    "        self.prob_migrate = 0.2667       # Probability of migration\n",
    "        self.prob_death = 0.0049         # Probability of death\n",
    "        self.alive = True\n"
   ]
  },
  {
   "cell_type": "markdown",
   "metadata": {},
   "source": [
    "## Eat\n",
    "Consumes a specified amount of nutrition from the environment.\n",
    "Allows the M1 macrophage to interact with its environment by consuming resources, which might affect its ability to function.\n",
    "Simulating resource consumption models the dependency of macrophages on their environment for energy and survival.\n"
   ]
  },
  {
   "cell_type": "code",
   "execution_count": null,
   "metadata": {},
   "outputs": [],
   "source": [
    "\n",
    "    def eat(self, val):\n",
    "        self.model.eat_nutrition(val)\n",
    "    \n",
    "        \"\"\"\n",
    "        Executes one step of the agent's behavior:\n",
    "        - Checks if the agent dies based on `prob_death`.\n",
    "        - Migrates to a neighboring cell with `prob_migrate`.\n",
    "        - Attempts to kill a tumor cell in its neighborhood with `prob_kill`.\n",
    "        \"\"\"\n"
   ]
  },
  {
   "cell_type": "markdown",
   "metadata": {},
   "source": [
    "## Step\n",
    "Executes one step of the M1 macrophage agent's behavior.\n",
    "Defines the agent's lifecycle at each step, including:\n",
    "- **Death:** The agent may die based on its `prob_death`.\n",
    "- **Migration:** The agent may move to a neighboring cell based on `prob_migrate`.\n",
    "- **Kill Tumor Cell:** The agent attempts to kill a tumor cell in its neighborhood with `prob_kill`.\n",
    "This method encapsulates the agent's decision-making and simulates its role in attacking tumor cells and moving through the environment.\n"
   ]
  },
  {
   "cell_type": "code",
   "execution_count": null,
   "metadata": {},
   "outputs": [],
   "source": [
    "\n",
    "    def step(self):\n",
    "        if not self.alive:\n",
    "            return\n",
    "        \n",
    "        self.eat(5)\n",
    "        if self.random.random() < self.prob_death: \n",
    "            self.alive = False\n",
    "            self.model.grid.remove_agent(self)\n",
    "            self.model.schedule.remove(self)\n",
    "            return\n",
    "        if self.random.random() < self.prob_migrate:\n",
    "            self.migrate()\n",
    "        if self.random.random() < self.prob_kill:\n",
    "            self.kill_tumor_cell()\n",
    "    \n",
    "    \"\"\"\n",
    "    Moves the agent to a random neighboring cell if the new cell is empty.\n",
    "    \"\"\"\n",
    "\n"
   ]
  },
  {
   "cell_type": "markdown",
   "metadata": {},
   "source": [
    "## Migrate\n",
    "Moves the M1 macrophage to a random neighboring cell if the new cell is empty.\n",
    "Simulates the natural migration of macrophages as they patrol the environment for tumor cells.\n",
    "Migration allows macrophages to interact with a wider area of the model, increasing their chances of encountering and attacking tumor cells.\n"
   ]
  },
  {
   "cell_type": "code",
   "execution_count": null,
   "metadata": {},
   "outputs": [],
   "source": [
    "\n",
    "    def migrate(self):\n",
    "        possible_steps = self.model.grid.get_neighborhood(self.pos, moore=True, include_center=False)\n",
    "        \n",
    "        # Filter only empty positions\n",
    "        empty_positions = [pos for pos in possible_steps if self.model.grid.is_cell_empty(pos)]\n",
    "\n",
    "        #Pick an empty position if there are any\n",
    "        if len(empty_positions) > 0:\n",
    "            new_position = self.random.choice(empty_positions)\n",
    "            self.model.grid.move_agent(self, new_position)\n",
    "\n",
    "    \"\"\"\n",
    "    Kills a neighboring tumor cell if one exists.\n",
    "    Reduces the killing capacity of the agent by 1.\n",
    "    \"\"\"\n",
    "    def kill_tumor_cell(self):\n",
    "        neighbors = self.model.grid.get_neighbors(self.pos, moore=True, include_center=False)\n",
    "        tumor_cells = [cell for cell in neighbors if isinstance(cell, Tumor_cells)]\n",
    "        if tumor_cells:\n",
    "            #print(\"Attempting to kill TUMOR\")\n",
    "            target = self.random.choice(tumor_cells)\n",
    "            target.apoptosis()#set_death_prob(1, \"val\") # Before TC.apoptosis() was called raising NoneType Error\n",
    "            #print(\"Kill!\")\n",
    "            self.killing_capacity -= 1"
   ]
  }
 ],
 "metadata": {
  "kernelspec": {
   "display_name": "Python 3 (ipykernel)",
   "language": "python",
   "name": "python3"
  },
  "language_info": {
   "codemirror_mode": {
    "name": "ipython",
    "version": 3
   },
   "file_extension": ".py",
   "mimetype": "text/x-python",
   "name": "python",
   "nbconvert_exporter": "python",
   "pygments_lexer": "ipython3",
   "version": "3.12.5"
  }
 },
 "nbformat": 4,
 "nbformat_minor": 4
}
