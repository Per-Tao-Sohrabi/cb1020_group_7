{
 "cells": [
  {
   "cell_type": "markdown",
   "metadata": {},
   "source": [
    "# M1"
   ]
  },
  {
   "cell_type": "markdown",
   "metadata": {},
   "source": [
    "#### Import Neccessary Packages\n",
    "The following packages included in cb1020.yml are necessary for the model to run. \n",
    "These include classes of the mesa package, as well as the agent classes improted from the various agent class files."
   ]
  },
  {
   "cell_type": "code",
   "execution_count": null,
   "metadata": {},
   "outputs": [],
   "source": [
    "from mesa import Agent, Model\n",
    "from mesa.time import RandomActivation\n",
    "from mesa.space import MultiGrid\n",
    "from mesa.visualization.modules import CanvasGrid\n",
    "from Tumor_cells import Tumor_cells\n",
    "from mesa.visualization.ModularVisualization import ModularServer"
   ]
  },
  {
   "cell_type": "markdown",
   "metadata": {},
   "source": [
    "# M1 Macrophage Agent\n",
    "\n",
    "The **M1 Macrophage** agent plays a critical role in the tumor microenvironment simulation. It represents an immune cell actively fighting tumor growth by killing tumor cells in its neighborhood. Below is the implementation of the M1 Macrophage agent. The agent is defined through its instance methods of def step, def migrate, def proliferate, def kill_tumor_cells\n",
    "\n",
    "## Attributes\n",
    "- **Killing Capacity**: The maximum number of tumor cells a single agent can kill. \n",
    "- **Probability of Killing (`prob_kill`)**: Likelihood of killing a tumor cell during a step. Will lower killing capacity with each kill. \n",
    "- **Probability of Migration (`prob_migrate`)**: Likelihood of moving to a new position\n",
    "- **Probability of Death (`prob_death`)**: Likelihood of death with each step"
   ]
  },
  {
   "cell_type": "code",
   "execution_count": null,
   "metadata": {},
   "outputs": [],
   "source": [
    "\"\"\"\n",
    "    Represents an M1 macrophage agent in the model.\n",
    "\n",
    "    Attributes:\n",
    "        position (tuple): The (x, y) position of the agent in the grid.\n",
    "        killing_capacity (int): The number of tumor cells the agent can kill.\n",
    "        prob_kill (float): Probability of killing a tumor cell in a step.\n",
    "        prob_migrate (float): Probability of moving to a new position in a step.\n",
    "        prob_death (float): Probability of dying in a step.\n",
    "        alive (bool): Indicates whether the agent is alive.\n",
    "\"\"\"\n",
    "class M1(Agent):\n",
    "    \n",
    "    \"\"\"\n",
    "        Initializes an M1 macrophage agent.\n",
    "\n",
    "        Args:\n",
    "            agent_id (int): Unique identifier for the agent.\n",
    "            position (tuple): Initial position of the agent in the grid.\n",
    "            model (Model): The model the agent belongs to.\n",
    "    \"\"\"\n",
    "    def __init__(self, agent_id, position, model):\n",
    "        super().__init__(agent_id, model)\n",
    "        self.position = position\n",
    "        self.killing_capacity = 11       # Killing capacity \n",
    "        self.prob_kill = 0.0306          # Probability of killing\n",
    "        self.prob_migrate = 0.2667       # Probability of migration\n",
    "        self.prob_death = 0.0049         # Probability of death\n",
    "        self.alive = True\n",
    "    def eat(self, val):\n",
    "        self.model.eat_nutrition(val)\n",
    "    \n",
    "        \"\"\"\n",
    "        Executes one step of the agent's behavior:\n",
    "        - Checks if the agent dies based on `prob_death`.\n",
    "        - Migrates to a neighboring cell with `prob_migrate`.\n",
    "        - Attempts to kill a tumor cell in its neighborhood with `prob_kill`.\n",
    "        \"\"\"\n",
    "    def step(self):\n",
    "        if not self.alive:\n",
    "            return\n",
    "        \n",
    "        self.eat(5)\n",
    "        if self.random.random() < self.prob_death: \n",
    "            self.alive = False\n",
    "            self.model.grid.remove_agent(self)\n",
    "            self.model.schedule.remove(self)\n",
    "            return\n",
    "        if self.random.random() < self.prob_migrate:\n",
    "            self.migrate()\n",
    "        if self.random.random() < self.prob_kill:\n",
    "            self.kill_tumor_cell()\n",
    "    \n",
    "    \"\"\"\n",
    "    Moves the agent to a random neighboring cell if the new cell is empty.\n",
    "    \"\"\"\n",
    "    def migrate(self):\n",
    "        possible_steps = self.model.grid.get_neighborhood(self.pos, moore=True, include_center=False)\n",
    "        \n",
    "        # Filter only empty positions\n",
    "        empty_positions = [pos for pos in possible_steps if self.model.grid.is_cell_empty(pos)]\n",
    "\n",
    "        #Pick an empty position if there are any\n",
    "        if len(empty_positions) > 0:\n",
    "            new_position = self.random.choice(empty_positions)\n",
    "            self.model.grid.move_agent(self, new_position)\n",
    "\n",
    "    \"\"\"\n",
    "    Kills a neighboring tumor cell if one exists.\n",
    "    Reduces the killing capacity of the agent by 1.\n",
    "    \"\"\"\n",
    "    def kill_tumor_cell(self):\n",
    "        neighbors = self.model.grid.get_neighbors(self.pos, moore=True, include_center=False)\n",
    "        tumor_cells = [cell for cell in neighbors if isinstance(cell, Tumor_cells)]\n",
    "        if tumor_cells:\n",
    "            #print(\"Attempting to kill TUMOR\")\n",
    "            target = self.random.choice(tumor_cells)\n",
    "            target.apoptosis()#set_death_prob(1, \"val\") # Before TC.apoptosis() was called raising NoneType Error\n",
    "            #print(\"Kill!\")\n",
    "            self.killing_capacity -= 1"
   ]
  }
 ],
 "metadata": {
  "kernelspec": {
   "display_name": "Python 3 (ipykernel)",
   "language": "python",
   "name": "python3"
  },
  "language_info": {
   "codemirror_mode": {
    "name": "ipython",
    "version": 3
   },
   "file_extension": ".py",
   "mimetype": "text/x-python",
   "name": "python",
   "nbconvert_exporter": "python",
   "pygments_lexer": "ipython3",
   "version": "3.12.5"
  }
 },
 "nbformat": 4,
 "nbformat_minor": 4
}
