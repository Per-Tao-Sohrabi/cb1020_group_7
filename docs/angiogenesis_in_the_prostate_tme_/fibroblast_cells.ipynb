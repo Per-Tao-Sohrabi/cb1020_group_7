{
 "cells": [
  {
   "cell_type": "markdown",
   "metadata": {},
   "source": [
    "# FIBROBLAST"
   ]
  },
  {
   "cell_type": "markdown",
   "metadata": {},
   "source": [
    "This chapter describes the implementation of the Fibroblast agent"
   ]
  },
  {
   "cell_type": "markdown",
   "metadata": {},
   "source": [
    "# Fibroblast\n",
    "Class representing fibroblast cells in the model.\n",
    "Fibroblast cells can induce endothelial growth, migrate, proliferate, and interact with endothelial cells.\n",
    "\n",
    "Attributes:\n",
    "    unique_id: The unique identifier for the fibroblast agent.\n",
    "    position: The position of the agent in the model grid.\n",
    "    model: The model in which the agent resides.\n",
    "    alive: Indicates whether the fibroblast agent is alive.\n",
    "    proliferation_capacity: The remaining capacity for fibroblast proliferation.\n",
    "    prob_support_growth: The probability of supporting tumor cell growth.\n",
    "    Tumor Cells Class Attributes:\n",
    "    unique_id: The unique identifier for the tumor cell agent.\n",
    "    position: The position of the agent in the model grid.\n",
    "    model: The model in which the agent resides.\n",
    "    viable: Indicates if the tumor cell is viable.\n",
    "    proliferation_prob: Probability of tumor cell proliferation.\n",
    "    death_prob: Probability of tumor cell death.\n",
    "    nearest_dist: The distance to the nearest endothelial cell.\n",
    "    hypoxia_thresholds: Thresholds for different levels of hypoxia.\n",
    "    prolif_inhib_intensity: Intensity of proliferation inhibition.\n",
    "    death_intensity: Intensity of cell death."
   ]
  },
  {
   "cell_type": "code",
   "execution_count": 1,
   "metadata": {},
   "outputs": [
    {
     "ename": "SyntaxError",
     "evalue": "invalid syntax (2667142714.py, line 2)",
     "output_type": "error",
     "traceback": [
      "\u001b[1;36m  Cell \u001b[1;32mIn[1], line 2\u001b[1;36m\u001b[0m\n\u001b[1;33m    Import the necessary prerequisites for this class to run as intended.\u001b[0m\n\u001b[1;37m           ^\u001b[0m\n\u001b[1;31mSyntaxError\u001b[0m\u001b[1;31m:\u001b[0m invalid syntax\n"
     ]
    }
   ],
   "source": [
    "## Imports and Class Declaration\n",
    "Import the necessary prerequisites for this class to run as intended.\n",
    "\n",
    "**Class Declaration**\n",
    "class Fibroblast(Agent): "
   ]
  },
  {
   "cell_type": "code",
   "execution_count": null,
   "metadata": {},
   "outputs": [],
   "source": [
    "from mesa import Agent, Model\n",
    "from mesa.time import RandomActivation\n",
    "from mesa.space import MultiGrid\n",
    "from Tumor_cells import Tumor_cells\n",
    "# from mesa.visualization.modules import CanvasGrid\n",
    "# from mesa.visualization.ModularVisualization import ModularServer"
   ]
  },
  {
   "cell_type": "markdown",
   "metadata": {},
   "source": [
    "## Instance Initiation\n",
    "Instance initalization associates the instance with different attribute parameter values depending on initialization conditions. \n",
    "\n",
    "\n",
    "**Declaration**\n",
    "\n",
    "\n",
    "def __init__(self, unique_id, position, model, *args):\n",
    "\n",
    "\n",
    "Initialize a fibroblast cell with the given parameters.\n",
    "\n",
    "\n",
    "Args:\n",
    "    unique_id: Unique identifier for the agent.\n",
    "    position: The position of the agent on the grid as a tuple (x, y).\n",
    "    model: The model to which the agent belongs.\n",
    "    *args: Optional arguments, including the previous distance to the nearest endothelial cell.\n",
    "\n",
    "\n",
    "**Attributes**\n",
    "\n",
    "\n",
    "There are 8 groups of instance attributes and parameters that relate to different components of fibroblast agents. These are: (1) constructor initiation attributes, (2) basic parameter values, (3) kinetic parameters, (4) hypoxia parameters, (5) parameters related to endothelial cell tracking, (6) fibroblast-tumor cell interaction parameters, (7) age-related parameters, and (8) hunger-related parameters.\n",
    "\n"
   ]
  },
  {
   "cell_type": "code",
   "execution_count": 3,
   "metadata": {},
   "outputs": [
    {
     "ename": "NameError",
     "evalue": "name 'Agent' is not defined",
     "output_type": "error",
     "traceback": [
      "\u001b[1;31m---------------------------------------------------------------------------\u001b[0m",
      "\u001b[1;31mNameError\u001b[0m                                 Traceback (most recent call last)",
      "Cell \u001b[1;32mIn[3], line 19\u001b[0m\n\u001b[0;32m     10\u001b[0m     \u001b[38;5;66;03m#PARAMETERS\u001b[39;00m\n\u001b[0;32m     11\u001b[0m \u001b[38;5;66;03m# Define parameters for the Fibroblast agent\u001b[39;00m\n\u001b[0;32m     12\u001b[0m params \u001b[38;5;241m=\u001b[39m {\n\u001b[0;32m     13\u001b[0m     \u001b[38;5;124m\"\u001b[39m\u001b[38;5;124mFpdeath\u001b[39m\u001b[38;5;124m\"\u001b[39m: \u001b[38;5;241m0.0018\u001b[39m\u001b[38;5;241m*\u001b[39m\u001b[38;5;241m10\u001b[39m,  \u001b[38;5;66;03m# Probability of death \u001b[39;00m\n\u001b[0;32m     14\u001b[0m     \u001b[38;5;124m\"\u001b[39m\u001b[38;5;124mFpmig\u001b[39m\u001b[38;5;124m\"\u001b[39m: \u001b[38;5;241m1.4\u001b[39m,          \u001b[38;5;66;03m# Probability of migration\u001b[39;00m\n\u001b[0;32m     15\u001b[0m     \u001b[38;5;124m\"\u001b[39m\u001b[38;5;124mFpprol\u001b[39m\u001b[38;5;124m\"\u001b[39m: \u001b[38;5;241m0.0838\u001b[39m\u001b[38;5;241m/\u001b[39m\u001b[38;5;241m4\u001b[39m,    \u001b[38;5;66;03m# Probability of proliferation\u001b[39;00m\n\u001b[0;32m     16\u001b[0m     \u001b[38;5;124m\"\u001b[39m\u001b[38;5;124mFpmax\u001b[39m\u001b[38;5;124m\"\u001b[39m: \u001b[38;5;241m4\u001b[39m             \u001b[38;5;66;03m# Initial proliferation capacity\u001b[39;00m\n\u001b[0;32m     17\u001b[0m }\n\u001b[1;32m---> 19\u001b[0m \u001b[38;5;28;01mclass\u001b[39;00m \u001b[38;5;21;01mFibroblast\u001b[39;00m(\u001b[43mAgent\u001b[49m):\n\u001b[0;32m     20\u001b[0m \u001b[38;5;250m    \u001b[39m\u001b[38;5;124;03m\"\"\"\u001b[39;00m\n\u001b[0;32m     21\u001b[0m \u001b[38;5;124;03m        Initializes a Fibroblast agent.\u001b[39;00m\n\u001b[0;32m     22\u001b[0m \n\u001b[1;32m   (...)\u001b[0m\n\u001b[0;32m     26\u001b[0m \u001b[38;5;124;03m            model (Model): The model the agent belongs to.\u001b[39;00m\n\u001b[0;32m     27\u001b[0m \u001b[38;5;124;03m    \"\"\"\u001b[39;00m\n\u001b[0;32m     28\u001b[0m        \u001b[38;5;66;03m#CONSTRUCTOR\u001b[39;00m\n",
      "\u001b[1;31mNameError\u001b[0m: name 'Agent' is not defined"
     ]
    }
   ],
   "source": [
    "\n",
    "# Fibroblast Agent\n",
    "\"\"\"\n",
    "    Represents a fibroblast agent in the model.\n",
    "\n",
    "    Attributes:\n",
    "        position (tuple): The (x, y) position of the agent in the grid.\n",
    "        alive (bool): Indicates whether the agent is alive.\n",
    "        proliferation_capacity (int): The remaining capacity for the agent to proliferate.\n",
    "\"\"\"\n",
    "    #PARAMETERS\n",
    "# Define parameters for the Fibroblast agent\n",
    "params = {\n",
    "    \"Fpdeath\": 0.0018*10,  # Probability of death \n",
    "    \"Fpmig\": 1.4,          # Probability of migration\n",
    "    \"Fpprol\": 0.0838/4,    # Probability of proliferation\n",
    "    \"Fpmax\": 4             # Initial proliferation capacity\n",
    "}\n",
    "\n",
    "class Fibroblast(Agent):\n",
    "    \"\"\"\n",
    "        Initializes a Fibroblast agent.\n",
    "\n",
    "        Args:\n",
    "            unique_id (int): Unique identifier for the agent.\n",
    "            position (tuple): Initial position of the agent in the grid (x, y).\n",
    "            model (Model): The model the agent belongs to.\n",
    "    \"\"\"\n",
    "       #CONSTRUCTOR\n",
    "    def __init__(self, unique_id, position, model):\n",
    "        super().__init__(unique_id, model)\n",
    "        self.position = position\n",
    "\n",
    "        #BASICS\n",
    "        self.alive = True\n",
    "        self.proliferation_capacity = params[\"Fpmax\"]\n",
    "\n",
    "        #INTERACTION PARAMETERS\n",
    "        self.prob_support_growth = 0.05\n",
    "    "
   ]
  },
  {
   "cell_type": "code",
   "execution_count": null,
   "metadata": {},
   "outputs": [],
   "source": [
    "def eat(self, val):\n",
    "        self.model.eat_nutrition(val)\n",
    "    \n",
    "    \"\"\"\n",
    "        Executes one step for the fibroblast agent, including:\n",
    "            - Death: Agent may die based on the `Fpdeath` probability.\n",
    "            - Migration: Agent may move to a neighboring cell based on the `Fpmig` probability.\n",
    "            - Proliferation: Agent may create a new fibroblast in an adjacent cell if it has \n",
    "              proliferation capacity and the `Fpprol` probability is met.\n",
    "    \"\"\"\n",
    "\n",
    "    # Step Logic\n",
    "    def step(self):\n",
    "        self.eat(3)\n",
    "    \n",
    "        # Migration\n",
    "        if self.random.random() < params[\"Fpmig\"]:\n",
    "            self.migrate()\n",
    "\n",
    "        # Support tumor growth\n",
    "        if self.random.random() < self.prob_support_growth:\n",
    "            self.support_tumor_cells()\n",
    "\n",
    "        #Proliferation\n",
    "        #Elif self.proliferation_capacity > 0 and self.random.random() < params[\"Fpprol\"]:\n",
    "        #self.proliferate()\n",
    "\n",
    "        # Death\n",
    "        if self.random.random() < params[\"Fpdeath\"]:\n",
    "            self.alive = False\n",
    "            self.model.grid.remove_agent(self)\n",
    "            self.model.schedule.remove(self)\n",
    "            return\n",
    "\n",
    "\n",
    "    \"\"\"\n",
    "        Moves the agent to a random neighboring cell if possible.\n",
    "    \"\"\"\n",
    "\n",
    "    # Migration Logic\n",
    "    def migrate(self):\n",
    "        possible_steps = self.model.grid.get_neighborhood(self.position, moore=True, include_center=False)\n",
    "        \n",
    "        # Filter only empty positions\n",
    "        empty_positions = [pos for pos in possible_steps if self.model.grid.is_cell_empty(pos)]\n",
    "\n",
    "        # Pick an empty position if there are any\n",
    "        if len(empty_positions) > 0:\n",
    "            new_position = self.random.choice(empty_positions)\n",
    "            if new_position != None:\n",
    "                self.model.grid.move_agent(self, new_position)\n",
    "\n",
    "    \"\"\"\n",
    "        Creates a new fibroblast agent in an empty neighboring cell if one exists.\n",
    "        Reduces the proliferation capacity of the current agent by 1.\n",
    "    \"\"\"\n",
    "    def proliferate(self):\n",
    "        self.model.generate_agents(Fibroblast, \"proliferate\", 1, self.position)\n",
    "        empty_cells = [cell for cell in self.model.grid.get_neighborhood(self.position, moore=True, include_center=False)\n",
    "                       if self.model.grid.is_cell_empty(cell)]\n",
    "        #If empty_cells:\n",
    "            #new_position = self.random.choice(empty_cells)\n",
    "            #new_agent = Fibroblast(self.model.next_id(), new_position, self.model)\n",
    "            #self.model.grid.place_agent(new_agent, new_position)\n",
    "            #self.model.schedule.add(new_agent)\n",
    "            #self.proliferation_capacity -= 1\n",
    "\n",
    "    # Support Tumor Cells Logic\n",
    "    def support_tumor_cells(self):\n",
    "        neighbors = self.model.grid.get_neighbors(self.position, moore=True, include_center=False)\n",
    "        for neighbor in neighbors:\n",
    "            if isinstance(neighbor, Tumor_cells):\n",
    "            \n",
    "            # Support tumor growth with probability\n",
    "                if self.random.random() < self.prob_support_growth:\n",
    "            \n",
    "                # Create a new tumor cell in a random neighboring position\n",
    "                    neighbors = self.model.grid.get_neighborhood(neighbor.position, moore=True, include_center=False)\n",
    "                    tumor_cells = [cell for cell in neighbors if isinstance(cell, Tumor_cells)]\n",
    "            \n",
    "                    if tumor_cells:\n",
    "                        tumor_cell = self.random.choice(tumor_cells)\n",
    "                        if tumor_cell.nearest_dist > tumor_cell.hypoxia_thresholds[1]:\n",
    "                            tumor_cell.prolif_inhib_intensity = 0.3\n",
    "                            tumor_cell.death_intensity = 0.5\n",
    "                            print(\"Fibroblast Supperoted TUMOR PROLIFERATION\")"
   ]
  }
 ],
 "metadata": {
  "kernelspec": {
   "display_name": "cb1020",
   "language": "python",
   "name": "python3"
  },
  "language_info": {
   "codemirror_mode": {
    "name": "ipython",
    "version": 3
   },
   "file_extension": ".py",
   "mimetype": "text/x-python",
   "name": "python",
   "nbconvert_exporter": "python",
   "pygments_lexer": "ipython3",
   "version": "3.12.3"
  }
 },
 "nbformat": 4,
 "nbformat_minor": 4
}
