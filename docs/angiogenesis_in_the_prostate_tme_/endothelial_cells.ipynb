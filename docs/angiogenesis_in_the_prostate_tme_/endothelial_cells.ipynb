{
 "cells": [
  {
   "cell_type": "markdown",
   "metadata": {},
   "source": [
    "# ENDOTHELIAL"
   ]
  },
  {
   "cell_type": "code",
   "execution_count": null,
   "metadata": {
    "vscode": {
     "languageId": "plaintext"
    }
   },
   "outputs": [],
   "source": [
    "from mesa import Agent;\n",
    "\n",
    "\n",
    "\"\"\"\n",
    "    Initializes an Endothelial agent.\n",
    "\n",
    "    Args:\n",
    "        unique_id (int): A unique identifier for the agent.\n",
    "        position (tuple): The (x, y) coordinates of the agent in the grid.\n",
    "        model (object): The simulation model instance the agent belongs to.\n",
    "        proliferation_prob (float): Probability of the agent to proliferate.\n",
    "        targeted_prolif (tuple or None): The target coordinates for directed proliferation.\n",
    "\"\"\"\n",
    "class Endothelial(Agent):\n",
    "    # STATIC FIELDS\n",
    "    def get_class_name(self):\n",
    "         return \"Endothelial\"\n",
    "\n"
   ]
  },
  {
   "cell_type": "markdown",
   "metadata": {},
   "source": [
    "## Instance\n",
    "Initializes an Endothelial agent.\n",
    "Sets up the endothelial agent with its unique identifier, position, and model instance. The agent is also initialized with a high default proliferation probability and optional support for targeted proliferation. Additionally, it nourishes the environment upon initialization."
   ]
  },
  {
   "cell_type": "code",
   "execution_count": null,
   "metadata": {
    "vscode": {
     "languageId": "plaintext"
    }
   },
   "outputs": [],
   "source": [
    "\n",
    "    def __init__(self, unique_id, position, model): # Position inputed as (x,y)\n",
    "        super().__init__(unique_id, model)\n",
    "        self.unique_id\n",
    "        self.model = model\n",
    "        self.position = position\n",
    "        self.proliferation_prob = 100\n",
    "        self.targeted_prolif = None\n",
    "        self.nurish(5)\n",
    "\n",
    "    '''  \n",
    "        Initiates targeted proliferation based on a specific coordinate and induction factor.\n",
    "    '''\n"
   ]
  },
  {
   "cell_type": "markdown",
   "metadata": {},
   "source": [
    "\n",
    "## Targeted proliferation\n",
    "Performs targeted proliferation.\n",
    "Simulates the agent's ability to proliferate towards a specific target coordinate (target_coord) under the influence of an induction_factor. If the proliferation probability condition is met, new endothelial agents are generated in the model."
   ]
  },
  {
   "cell_type": "code",
   "execution_count": null,
   "metadata": {
    "vscode": {
     "languageId": "plaintext"
    }
   },
   "outputs": [],
   "source": [
    "\n",
    "    def targeted_proliferation(self, target_coord, induction_factor):\n",
    "        #print(f'Endothelial position = {self.position}')\n",
    "        self.targeted_prolif = target_coord\n",
    "        x_target, y_target = target_coord\n",
    "        self.proliferation_prob = 100*induction_factor\n",
    "        \n",
    "        # Create the new agent:\n",
    "        if self.random.randint(0,100) < self.proliferation_prob:\n",
    "            self.model.generate_agents(Endothelial, \"directed proliferation\", 1, self.position)\n",
    "    \n",
    "    '''\n",
    "        Consumes a specified amount of nutrition from the model.\n",
    "    '''\n"
   ]
  },
  {
   "cell_type": "markdown",
   "metadata": {},
   "source": [
    "## Eat\n",
    "Consumes resources.\n",
    "Simulates the metabolic activity of the endothelial agent by consuming a specified amount of resources (val) from the environment."
   ]
  },
  {
   "cell_type": "code",
   "execution_count": null,
   "metadata": {
    "vscode": {
     "languageId": "plaintext"
    }
   },
   "outputs": [],
   "source": [
    "\n",
    "    def eat(self, val):\n",
    "        self.model.eat_nutrition(val)\n",
    "    \n",
    "    '''\n",
    "        Updates the model's nutrition capacity by a specified value.\n",
    "    '''\n",
    "\n"
   ]
  },
  {
   "cell_type": "markdown",
   "metadata": {},
   "source": [
    "## Nourish\n",
    "Nourishes the environment.\n",
    "Increases the model's nutritional capacity by a specified value (val), representing the agent's role in contributing to the system's overall resource availability."
   ]
  },
  {
   "cell_type": "code",
   "execution_count": null,
   "metadata": {
    "vscode": {
     "languageId": "plaintext"
    }
   },
   "outputs": [],
   "source": [
    "\n",
    "    def nurish(self, val):\n",
    "        self.model.update_nutrition_cap(val)\n",
    "        #print(\"nurished\")\n",
    "\n",
    "    '''\n",
    "        Adjusts the proliferation probability based on the nutritional state and cell density.\n",
    "    '''\n",
    "\n",
    "    \n"
   ]
  },
  {
   "cell_type": "markdown",
   "metadata": {},
   "source": [
    "## Hunger\n",
    "Modulates proliferation based on resource availability.\n",
    "Adjusts the agent's proliferation probability based on the ratio of available nutrition to cell density in the environment. Ensures that the agent's behavior is tied to resource availability."
   ]
  },
  {
   "cell_type": "code",
   "execution_count": null,
   "metadata": {
    "vscode": {
     "languageId": "plaintext"
    }
   },
   "outputs": [],
   "source": [
    "    def hunger(self):\n",
    "\n",
    "        total_cells = self.model.grid.width*self.model.grid.height + self.model.data_collection(\"count\", \"total\") \n",
    "\n",
    "        nutrition_count = self.model.nutrition_cap\n",
    "\n",
    "        depletion_ratio = nutrition_count/total_cells\n",
    "\n",
    "        self.proliferation_prob *= depletion_ratio\n",
    "\n",
    "    '''\n",
    "        Defines the behavior of the agent at each simulation step. It performs nourishment and consumes nutrition.\n",
    "    '''\n",
    "\n"
   ]
  },
  {
   "cell_type": "markdown",
   "metadata": {},
   "source": [
    "## Step\n",
    "Executes the agent’s actions for a simulation step.\n",
    "Simulates the agent's behavior by nourishing the environment, consuming resources, and potentially performing other context-specific actions."
   ]
  },
  {
   "cell_type": "code",
   "execution_count": null,
   "metadata": {
    "vscode": {
     "languageId": "plaintext"
    }
   },
   "outputs": [],
   "source": [
    "\n",
    "    def step(self):\n",
    "        self.nurish(6)\n",
    "        self.eat(1)\n",
    "        #self.hunger()\n",
    "        #define behaviour for diff situations here\n",
    "        pass\n",
    "\n",
    "    '''\n",
    "    It will only grow if there is space in the three adjacent cells in the corners directed towards your target cell. \n",
    "    This means that only the first one that manages to grow into a cell is allowed to continue. \n",
    "    '''"
   ]
  }
 ],
 "metadata": {
  "kernelspec": {
   "display_name": "Python 3 (ipykernel)",
   "language": "python",
   "name": "python3"
  },
  "language_info": {
   "codemirror_mode": {
    "name": "ipython",
    "version": 3
   },
   "file_extension": ".py",
   "mimetype": "text/x-python",
   "name": "python",
   "nbconvert_exporter": "python",
   "pygments_lexer": "ipython3",
   "version": "3.12.5"
  }
 },
 "nbformat": 4,
 "nbformat_minor": 4
}
